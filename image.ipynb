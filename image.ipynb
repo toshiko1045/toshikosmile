{
 "cells": [
  {
   "cell_type": "markdown",
   "id": "e68a9360",
   "metadata": {},
   "source": [
    "# ライブラリインポート"
   ]
  },
  {
   "cell_type": "code",
   "execution_count": 1,
   "id": "1d16563c",
   "metadata": {},
   "outputs": [],
   "source": [
    "from PIL import Image\n",
    "from io import BytesIO\n",
    "import numpy as np\n",
    "import glob\n",
    "import matplotlib.pyplot as plt\n",
    "from keras.models import Sequential,Model\n",
    "from keras.layers import Conv2D, MaxPooling2D\n",
    "from keras.layers import Activation,Dropout,Flatten,Dense,Input\n",
    "from keras.utils  import np_utils"
   ]
  },
  {
   "cell_type": "markdown",
   "id": "a738b8d7",
   "metadata": {},
   "source": [
    "# データセット読み込み"
   ]
  },
  {
   "cell_type": "code",
   "execution_count": null,
   "id": "013716fa",
   "metadata": {},
   "outputs": [],
   "source": [
    "dataset_dir_name = \"./input_images/img_align_celeba_png\"\n",
    "# dataset_dir_name = \"./input_images/testimages\"\n",
    "dataset_fil_name = dataset_dir_name+\"/*.png\"\n",
    "image_resize = (256, 256)\n",
    "txtdata_fil_name = \"./input_images/list_attr_celeba.txt\"\n",
    "\n",
    "X_train = []\n",
    "dataset = glob.glob(dataset_fil_name)\n",
    "for i,filename in enumerate(dataset):\n",
    "    image_array = list(np.asarray(Image.open(filename).convert(\"RGB\").resize(image_resize)))\n",
    "    X_train.append(image_array)\n",
    "    if i==3000:\n",
    "        break\n",
    "X_train = np.array(X_train)\n",
    "\n",
    "Y_train = []\n",
    "f = open(txtdata_fil_name)\n",
    "f.readline()\n",
    "f.readline()\n",
    "for i in range(len(X_train)):\n",
    "    y = int(f.readline().split()[32])\n",
    "    if y==1:\n",
    "        Y_train.append([1,0])\n",
    "    else:\n",
    "        Y_train.append([0,1])\n",
    "f.close()\n",
    "Y_train = np.array(Y_train)\n",
    "print(np.shape(X_train))\n"
   ]
  },
  {
   "cell_type": "markdown",
   "id": "a09d0d8d",
   "metadata": {},
   "source": [
    "# モデル作成"
   ]
  },
  {
   "cell_type": "code",
   "execution_count": null,
   "id": "94eec894",
   "metadata": {},
   "outputs": [],
   "source": [
    "model = Sequential()\n",
    "model.add(Conv2D(32,(3,3),activation=\"relu\",padding=\"same\",input_shape=(256, 256, 3)))\n",
    "model.add(MaxPooling2D(pool_size=(2,2)))\n",
    "model.add(Conv2D(32,(3,3),padding=\"same\"))\n",
    "model.add(MaxPooling2D(pool_size=(2,2)))\n",
    "model.add(Flatten())\n",
    "model.add(Dense(2, activation=\"softmax\"))\n",
    "model.compile(loss=\"categorical_crossentropy\")\n",
    "model.summary()"
   ]
  },
  {
   "cell_type": "markdown",
   "id": "f14d3dd5",
   "metadata": {},
   "source": [
    "# モデル実行"
   ]
  },
  {
   "cell_type": "code",
   "execution_count": null,
   "id": "dde5cc83",
   "metadata": {
    "scrolled": true
   },
   "outputs": [],
   "source": [
    "history = model.fit(X_train, Y_train,validation_split=0.2, epochs=30)\n",
    "plt.plot(history.history['loss']) # 損失関数\n",
    "plt.plot(history.history['val_loss']) # 損失関数\n",
    "plt.title('Model loss') \n",
    "plt.ylabel('Loss')\n",
    "plt.xlabel('Epoch')\n",
    "plt.legend(['Train', 'Validation'], loc='upper left')\n",
    "plt.show()"
   ]
  },
  {
   "cell_type": "code",
   "execution_count": null,
   "id": "59647893",
   "metadata": {},
   "outputs": [],
   "source": [
    "prediction = model.predict(X_train[:30])  \n",
    "\n",
    "for p in prediction:\n",
    "    if p[0]>p[1]:\n",
    "        print(\"smile\")\n",
    "    else:\n",
    "        print(\"not smile\")"
   ]
  },
  {
   "cell_type": "code",
   "execution_count": null,
   "id": "87548373",
   "metadata": {},
   "outputs": [],
   "source": [
    "model.save(\"./model.h5\")"
   ]
  },
  {
   "cell_type": "code",
   "execution_count": null,
   "id": "c65ce56a",
   "metadata": {
    "scrolled": true
   },
   "outputs": [],
   "source": [
    "!tensorflowjs_converter --input_format keras ./model.h5 ./"
   ]
  }
 ],
 "metadata": {
  "kernelspec": {
   "display_name": "Python 3 (ipykernel)",
   "language": "python",
   "name": "python3"
  },
  "language_info": {
   "codemirror_mode": {
    "name": "ipython",
    "version": 3
   },
   "file_extension": ".py",
   "mimetype": "text/x-python",
   "name": "python",
   "nbconvert_exporter": "python",
   "pygments_lexer": "ipython3",
   "version": "3.10.4"
  }
 },
 "nbformat": 4,
 "nbformat_minor": 5
}
